{
 "cells": [
  {
   "cell_type": "code",
   "execution_count": 1,
   "metadata": {},
   "outputs": [],
   "source": [
    "import glob\n",
    "import pandas as pd"
   ]
  },
  {
   "cell_type": "code",
   "execution_count": 10,
   "metadata": {},
   "outputs": [],
   "source": [
    "all_files = glob.glob(\"*.csv\") "
   ]
  },
  {
   "cell_type": "code",
   "execution_count": 11,
   "metadata": {},
   "outputs": [
    {
     "name": "stdout",
     "output_type": "stream",
     "text": [
      "201908-citibike-tripdata.csv\n",
      "201906-citibike-tripdata.csv\n",
      "201910-citibike-tripdata.csv\n",
      "201909-citibike-tripdata.csv\n",
      "201907-citibike-tripdata.csv\n",
      "201905-citibike-tripdata.csv\n"
     ]
    }
   ],
   "source": [
    "df = pd.DataFrame()\n",
    "for i in all_files:\n",
    "    df = pd.concat([df, pd.read_csv(i)])\n",
    "    print(i)"
   ]
  },
  {
   "cell_type": "code",
   "execution_count": 13,
   "metadata": {},
   "outputs": [],
   "source": [
    "df['starttime'] = pd.to_datetime(df[\"starttime\"],format=\"%Y-%m-%d %H:%M:%S\")\n",
    "df['stoptime'] = pd.to_datetime(df[\"stoptime\"],format=\"%Y-%m-%d %H:%M:%S\")"
   ]
  },
  {
   "cell_type": "code",
   "execution_count": 14,
   "metadata": {},
   "outputs": [],
   "source": [
    "df['total_time'] = df['stoptime'] - df['starttime']"
   ]
  },
  {
   "cell_type": "code",
   "execution_count": 18,
   "metadata": {},
   "outputs": [],
   "source": [
    "df['distance'] = ((df['start station latitude'] - df['end station latitude']) ** 2 + \\\n",
    "                 (df['start station longitude'] - df['end station longitude']) ** 2) ** 0.5"
   ]
  },
  {
   "cell_type": "code",
   "execution_count": 21,
   "metadata": {},
   "outputs": [],
   "source": [
    "df.to_csv('concat_half_year.csv', index = False)"
   ]
  },
  {
   "cell_type": "code",
   "execution_count": 22,
   "metadata": {},
   "outputs": [
    {
     "data": {
      "text/plain": [
       "Index(['tripduration', 'starttime', 'stoptime', 'start station id',\n",
       "       'start station name', 'start station latitude',\n",
       "       'start station longitude', 'end station id', 'end station name',\n",
       "       'end station latitude', 'end station longitude', 'bikeid', 'usertype',\n",
       "       'birth year', 'gender', 'total_time', 'distance'],\n",
       "      dtype='object')"
      ]
     },
     "execution_count": 22,
     "metadata": {},
     "output_type": "execute_result"
    }
   ],
   "source": [
    "df.columns"
   ]
  },
  {
   "cell_type": "code",
   "execution_count": 2,
   "metadata": {},
   "outputs": [],
   "source": [
    "import pandas as pd"
   ]
  },
  {
   "cell_type": "code",
   "execution_count": 3,
   "metadata": {},
   "outputs": [],
   "source": [
    "df = pd.read_csv('concat_half_year.csv')"
   ]
  },
  {
   "cell_type": "code",
   "execution_count": 3,
   "metadata": {},
   "outputs": [],
   "source": [
    "df['starttime'] = pd.to_datetime(df[\"starttime\"],format=\"%Y-%m-%d %H:%M:%S\")\n",
    "df['stoptime'] = pd.to_datetime(df[\"stoptime\"],format=\"%Y-%m-%d %H:%M:%S\")"
   ]
  },
  {
   "cell_type": "code",
   "execution_count": 4,
   "metadata": {},
   "outputs": [],
   "source": [
    "df['time'] = pd.to_datetime(df[\"starttime\"],format=\"%Y-%m-%d %H\")"
   ]
  },
  {
   "cell_type": "code",
   "execution_count": 12,
   "metadata": {},
   "outputs": [
    {
     "name": "stderr",
     "output_type": "stream",
     "text": [
      "/Library/Frameworks/Python.framework/Versions/3.7/lib/python3.7/site-packages/ipykernel_launcher.py:1: UserWarning: Pandas doesn't allow columns to be created via a new attribute name - see https://pandas.pydata.org/pandas-docs/stable/indexing.html#attribute-access\n",
      "  \"\"\"Entry point for launching an IPython kernel.\n"
     ]
    }
   ],
   "source": [
    "df.month = df.starttime.dt.month\n",
    "month_group = df.month.value_counts().reset_index()\n",
    "month_group = month_group.rename(columns = {'index': 'month'})\n",
    "month_group.to_csv('month.csv', index = False)"
   ]
  },
  {
   "cell_type": "code",
   "execution_count": 32,
   "metadata": {},
   "outputs": [],
   "source": [
    "df.day = df.starttime.dt.weekday\n",
    "day_group = df.starttime.dt.weekday.value_counts().reset_index()\n",
    "day_group = day_group.rename(columns = {'index': 'weekday'})\n",
    "day_group.index = day_group.index + 1\n",
    "day_group.to_csv('weekday.csv', index = False)"
   ]
  },
  {
   "cell_type": "code",
   "execution_count": 33,
   "metadata": {},
   "outputs": [],
   "source": [
    "hour_group = df.starttime.dt.hour.value_counts().reset_index()\n",
    "hour_group = hour_group.rename(columns = {'index': 'hour'})\n",
    "hour_group.index = hour_group.index + 1\n",
    "hour_group.to_csv('hour.csv', index = False)"
   ]
  },
  {
   "cell_type": "code",
   "execution_count": 37,
   "metadata": {},
   "outputs": [],
   "source": [
    "def count_total(column):\n",
    "    column_group = df[column].value_counts().reset_index().rename(columns = {'index': column})\n",
    "    column_group.to_csv(column + '.csv', index = False)"
   ]
  },
  {
   "cell_type": "code",
   "execution_count": 45,
   "metadata": {},
   "outputs": [],
   "source": [
    "column_list = ['start station name', 'end station name', 'bikeid', \n",
    "               'usertype', 'birth year','gender', 'distance']"
   ]
  },
  {
   "cell_type": "code",
   "execution_count": 46,
   "metadata": {},
   "outputs": [],
   "source": [
    "for i in column_list:\n",
    "    count_total(i)"
   ]
  },
  {
   "cell_type": "code",
   "execution_count": 56,
   "metadata": {},
   "outputs": [],
   "source": [
    "pd.DataFrame({0: ['total'], 1: [13112694]}).to_csv('total.csv', index = False)"
   ]
  },
  {
   "cell_type": "code",
   "execution_count": 4,
   "metadata": {},
   "outputs": [],
   "source": [
    "start_group = df.groupby('start station name')\n",
    "start_group.mean()[['start station latitude', \n",
    "                    'start station longitude', 'tripduration']].to_csv('start_location.csv', index = True)"
   ]
  },
  {
   "cell_type": "code",
   "execution_count": 5,
   "metadata": {},
   "outputs": [],
   "source": [
    "end_group = df.groupby('end station name')\n",
    "end_group.mean()[['end station latitude', \n",
    "                    'end station longitude', 'tripduration']].to_csv('end_location.csv', index = True)"
   ]
  },
  {
   "cell_type": "code",
   "execution_count": 6,
   "metadata": {},
   "outputs": [],
   "source": [
    "start_group = start_group.count()['tripduration'].reset_index().rename({'index': 'start station name',\n",
    "                                                                  'tripduration': 'count'})"
   ]
  },
  {
   "cell_type": "code",
   "execution_count": 7,
   "metadata": {},
   "outputs": [
    {
     "data": {
      "text/plain": [
       "Index(['tripduration', 'starttime', 'stoptime', 'start station id',\n",
       "       'start station name', 'start station latitude',\n",
       "       'start station longitude', 'end station id', 'end station name',\n",
       "       'end station latitude', 'end station longitude', 'bikeid', 'usertype',\n",
       "       'birth year', 'gender', 'total_time', 'distance'],\n",
       "      dtype='object')"
      ]
     },
     "execution_count": 7,
     "metadata": {},
     "output_type": "execute_result"
    }
   ],
   "source": [
    "df.columns"
   ]
  },
  {
   "cell_type": "code",
   "execution_count": 8,
   "metadata": {},
   "outputs": [],
   "source": [
    "start_group = pd.merge(start_group,df[['start station name', 'start station latitude', \n",
    "                                       'end station latitude']], how = 'left', on = 'start station name')"
   ]
  },
  {
   "cell_type": "code",
   "execution_count": 11,
   "metadata": {},
   "outputs": [],
   "source": [
    "start_group = start_group.drop_duplicates()"
   ]
  },
  {
   "cell_type": "code",
   "execution_count": 12,
   "metadata": {},
   "outputs": [
    {
     "data": {
      "text/html": [
       "<div>\n",
       "<style scoped>\n",
       "    .dataframe tbody tr th:only-of-type {\n",
       "        vertical-align: middle;\n",
       "    }\n",
       "\n",
       "    .dataframe tbody tr th {\n",
       "        vertical-align: top;\n",
       "    }\n",
       "\n",
       "    .dataframe thead th {\n",
       "        text-align: right;\n",
       "    }\n",
       "</style>\n",
       "<table border=\"1\" class=\"dataframe\">\n",
       "  <thead>\n",
       "    <tr style=\"text-align: right;\">\n",
       "      <th></th>\n",
       "      <th>start station name</th>\n",
       "      <th>tripduration</th>\n",
       "      <th>start station latitude</th>\n",
       "      <th>end station latitude</th>\n",
       "    </tr>\n",
       "  </thead>\n",
       "  <tbody>\n",
       "    <tr>\n",
       "      <th>0</th>\n",
       "      <td>1 Ave &amp; E 110 St</td>\n",
       "      <td>8675</td>\n",
       "      <td>40.792327</td>\n",
       "      <td>40.781721</td>\n",
       "    </tr>\n",
       "    <tr>\n",
       "      <th>1</th>\n",
       "      <td>1 Ave &amp; E 110 St</td>\n",
       "      <td>8675</td>\n",
       "      <td>40.792327</td>\n",
       "      <td>40.781122</td>\n",
       "    </tr>\n",
       "    <tr>\n",
       "      <th>2</th>\n",
       "      <td>1 Ave &amp; E 110 St</td>\n",
       "      <td>8675</td>\n",
       "      <td>40.792327</td>\n",
       "      <td>40.782454</td>\n",
       "    </tr>\n",
       "    <tr>\n",
       "      <th>3</th>\n",
       "      <td>1 Ave &amp; E 110 St</td>\n",
       "      <td>8675</td>\n",
       "      <td>40.792327</td>\n",
       "      <td>40.783964</td>\n",
       "    </tr>\n",
       "    <tr>\n",
       "      <th>5</th>\n",
       "      <td>1 Ave &amp; E 110 St</td>\n",
       "      <td>8675</td>\n",
       "      <td>40.792327</td>\n",
       "      <td>40.798786</td>\n",
       "    </tr>\n",
       "    <tr>\n",
       "      <th>...</th>\n",
       "      <td>...</td>\n",
       "      <td>...</td>\n",
       "      <td>...</td>\n",
       "      <td>...</td>\n",
       "    </tr>\n",
       "    <tr>\n",
       "      <th>13111771</th>\n",
       "      <td>Yankee Ferry Terminal</td>\n",
       "      <td>11063</td>\n",
       "      <td>40.686931</td>\n",
       "      <td>40.661063</td>\n",
       "    </tr>\n",
       "    <tr>\n",
       "      <th>13111834</th>\n",
       "      <td>Yankee Ferry Terminal</td>\n",
       "      <td>11063</td>\n",
       "      <td>40.686931</td>\n",
       "      <td>40.730563</td>\n",
       "    </tr>\n",
       "    <tr>\n",
       "      <th>13112105</th>\n",
       "      <td>Yankee Ferry Terminal</td>\n",
       "      <td>11063</td>\n",
       "      <td>40.686931</td>\n",
       "      <td>40.686176</td>\n",
       "    </tr>\n",
       "    <tr>\n",
       "      <th>13112460</th>\n",
       "      <td>Yankee Ferry Terminal</td>\n",
       "      <td>11063</td>\n",
       "      <td>40.686931</td>\n",
       "      <td>40.702551</td>\n",
       "    </tr>\n",
       "    <tr>\n",
       "      <th>13112480</th>\n",
       "      <td>Yankee Ferry Terminal</td>\n",
       "      <td>11063</td>\n",
       "      <td>40.686931</td>\n",
       "      <td>40.716059</td>\n",
       "    </tr>\n",
       "  </tbody>\n",
       "</table>\n",
       "<p>346505 rows × 4 columns</p>\n",
       "</div>"
      ],
      "text/plain": [
       "             start station name  tripduration  start station latitude  \\\n",
       "0              1 Ave & E 110 St          8675               40.792327   \n",
       "1              1 Ave & E 110 St          8675               40.792327   \n",
       "2              1 Ave & E 110 St          8675               40.792327   \n",
       "3              1 Ave & E 110 St          8675               40.792327   \n",
       "5              1 Ave & E 110 St          8675               40.792327   \n",
       "...                         ...           ...                     ...   \n",
       "13111771  Yankee Ferry Terminal         11063               40.686931   \n",
       "13111834  Yankee Ferry Terminal         11063               40.686931   \n",
       "13112105  Yankee Ferry Terminal         11063               40.686931   \n",
       "13112460  Yankee Ferry Terminal         11063               40.686931   \n",
       "13112480  Yankee Ferry Terminal         11063               40.686931   \n",
       "\n",
       "          end station latitude  \n",
       "0                    40.781721  \n",
       "1                    40.781122  \n",
       "2                    40.782454  \n",
       "3                    40.783964  \n",
       "5                    40.798786  \n",
       "...                        ...  \n",
       "13111771             40.661063  \n",
       "13111834             40.730563  \n",
       "13112105             40.686176  \n",
       "13112460             40.702551  \n",
       "13112480             40.716059  \n",
       "\n",
       "[346505 rows x 4 columns]"
      ]
     },
     "execution_count": 12,
     "metadata": {},
     "output_type": "execute_result"
    }
   ],
   "source": [
    "start_group"
   ]
  },
  {
   "cell_type": "code",
   "execution_count": null,
   "metadata": {},
   "outputs": [],
   "source": [
    "star"
   ]
  }
 ],
 "metadata": {
  "kernelspec": {
   "display_name": "Python 3",
   "language": "python",
   "name": "python3"
  },
  "language_info": {
   "codemirror_mode": {
    "name": "ipython",
    "version": 3
   },
   "file_extension": ".py",
   "mimetype": "text/x-python",
   "name": "python",
   "nbconvert_exporter": "python",
   "pygments_lexer": "ipython3",
   "version": "3.7.4"
  }
 },
 "nbformat": 4,
 "nbformat_minor": 2
}
